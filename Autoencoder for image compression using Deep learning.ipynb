{
 "cells": [
  {
   "cell_type": "markdown",
   "metadata": {},
   "source": [
    "# Autoencoder for image compression using Deep learning"
   ]
  },
  {
   "cell_type": "code",
   "execution_count": 2,
   "metadata": {},
   "outputs": [],
   "source": [
    "# install python libraties requires to run the code in your workspace\n",
    "# !pip install -r requirements.txt"
   ]
  },
  {
   "cell_type": "code",
   "execution_count": 32,
   "metadata": {},
   "outputs": [],
   "source": [
    "# to subpress warning\n",
    "import warnings\n",
    "warnings.filterwarnings(\"ignore\")\n",
    "\n",
    "try:\n",
    "    #importing librarys\n",
    "\n",
    "    # cv2 is a python extarnal package to do image processing and manipulation related stuff.\n",
    "    import cv2 \n",
    "\n",
    "    # imutils is a series of convenience functions to make basic image processing easy.\n",
    "    import imutils\n",
    "\n",
    "    # tensorflow is a python library for machine learning and artificial intelligence related work.\n",
    "    import tensorflow as tf \n",
    "\n",
    "\n",
    "    # NumPy is a Python library used for working with arrays\n",
    "    import numpy as np\n",
    "\n",
    "\n",
    "\n",
    "    # Keras is a library that provides a Python interface for artificial neural networks. \n",
    "    # Keras acts as an interface for the TensorFlow library.\n",
    "    import keras\n",
    "\n",
    "\n",
    "    # 1. Keras layers are the building blocks of the Keras library that can be stacked together for creating neural network models.\n",
    "    # 2. Keras Conv2D creates a 2D convolution kernel that is wind with layers input which helps produce a tensor of outputs.\n",
    "    # 3. maxpooling2D Downsamples the input along its spatial dimensions by taking the maximum value over an input window for each channel of the input. \n",
    "    # 4 .Flattening is converting the data into a 1-dimensional array for inputting it to the next layer. \n",
    "    # 5 .Dropout regularization technique for reducing overfitting in neural networks by preventing complex co-adaptations on training data.\n",
    "    # 6. Batch normalization is a technique for training very deep neural networks that standardizes the inputs to a layer for each mini-batch. \n",
    "    from keras.layers import Conv2D, MaxPooling2D, Flatten, Dense, Dropout, BatchNormalization\n",
    "\n",
    "\n",
    "    #  Model groups layers into an object with training and inference features.\n",
    "    from tensorflow.keras.models import Model\n",
    "\n",
    "    # tensorflow.keras.callbacks is used to visualize training of a model.\n",
    "    from tensorflow.keras.callbacks import TensorBoard, ModelCheckpoint \n",
    "\n",
    "    # used to split dataset(features and target) into test and test\n",
    "    from sklearn.model_selection import train_test_split\n",
    "\n",
    "    # F1/F Score is a measure of how accurate a model is by using Precision and Recall following the \n",
    "    # formula of: F1_Score = 2 * ((Precision * Recall) / (Precision + Recall)) \n",
    "    # Precision is commonly called positive predictive value.\n",
    "    from sklearn.metrics import f1_score\n",
    "\n",
    "    # shuffle the dataset for a even mixture of each type of feature and target.it gives better result.\n",
    "    from sklearn.utils import shuffle\n",
    "\n",
    "    # A one hot encoding allows the representation of categorical data to be more expressive.\n",
    "    from sklearn.preprocessing import OneHotEncoder\n",
    "\n",
    "    # confusion matrix is used to evaluate the accuracy of a classification.[[TP,FP],[FN,TN]]\n",
    "    # A classification report is a performance evaluation metric in machine learning. \n",
    "    # It is used to show the precision, recall, F1 Score, and support of your trained classification model.\n",
    "    from sklearn.metrics import confusion_matrix,classification_report\n",
    "\n",
    "    # importing prebuild structure similarity index \n",
    "    from skimage.metrics import structural_similarity as ssim\n",
    "    \n",
    "    # The OS module in Python provides functions for interacting with the operating system.\n",
    "    import os\n",
    "\n",
    "    # Matplotlib is a data visualization and graphical plotting library for Python.\n",
    "    import matplotlib.pyplot as plt\n",
    "\n",
    "    # seaborn is alse a data visualization and graphical plotting library for Python.\n",
    "    import seaborn as sn\n",
    "\n",
    "    # used to display markdown,image,control (frontend utilities)\n",
    "    from IPython import display\n",
    "\n",
    "    import time\n",
    "    # time package\n",
    "    \n",
    "    from math import log10, sqrt\n",
    "    # for mathematical operations\n",
    "    \n",
    "    \n",
    "    \n",
    "except:\n",
    "    !pip install -r requirements.txt\n",
    "# dataset path \n",
    "path = r\"DATASET\"\n",
    "# make sure in this dir two folder named \"yes\" and \"no\" is present. "
   ]
  },
  {
   "cell_type": "code",
   "execution_count": 4,
   "metadata": {},
   "outputs": [
    {
     "name": "stdout",
     "output_type": "stream",
     "text": [
      "PhysicalDevice(name='/physical_device:CPU:0', device_type='CPU')\n"
     ]
    }
   ],
   "source": [
    "# GPU Info \n",
    "try:\n",
    "    import GPUtil\n",
    "except:\n",
    "    !pip install GPUtil\n",
    "    import GPUtil\n",
    "\n",
    "    \n",
    "# check physical computing devices\n",
    "device=tf.config.experimental.list_physical_devices()\n",
    "for i in device:\n",
    "    print(i)\n",
    "if len(device)>1:\n",
    "    # find GPU details\n",
    "    print(\"=\"*20, \"GPU Details\", \"=\"*20)\n",
    "    gpus = GPUtil.getGPUs()\n",
    "    for gpu in gpus:\n",
    "        print(gpu_id,gpu.name, gpu.driver,gpu.memoryTotal,gpu.temperature)\n",
    "\n"
   ]
  },
  {
   "cell_type": "code",
   "execution_count": 5,
   "metadata": {},
   "outputs": [],
   "source": [
    "# this function crop out the unnecessary part of a image.\n",
    "# it takes two parameter -> image : numpy/cv2 image array , plot : binary (You want to plot after before effect of the image)\n",
    "\n",
    "\n",
    "def image_threshholder(image, plot=False):\n",
    "    # grayscalling the image\n",
    "    # applying gausionBlur operation on grayscaled image.\n",
    "    # binary threshholding the image to clean the gray scale range and makes the image binary colored based on range.\n",
    "    # to remove thresh holding comment the next line\n",
    "    grayscale=cv2.cvtColor(image, cv2.COLOR_BGR2GRAY)\n",
    "    grayscale=cv2.GaussianBlur(grayscale,(5,5),0)\n",
    "    new_image= cv2.threshold(grayscale, 100, 255, cv2.THRESH_BINARY,cv2.CHAIN_APPROX_SIMPLE)[1]\n",
    "    if plot:\n",
    "        # plots the after before effect on the image based on parameter plot\n",
    "        # plot if plot=true, ignore the if block if plot=False\n",
    "        plt.figure()\n",
    "        plt.subplot(1,2,1)\n",
    "        plt.imshow(image)\n",
    "        plt.tick_params(axis=\"both\", which=\"both\",\n",
    "                        top=False,bottom=False,left=False,right=False,\n",
    "                       labelbottom=False,labeltop=False,labelleft=False,\n",
    "                       labelright=False)\n",
    "        plt.title(\"original image\")\n",
    "        plt.subplot(1,2,2)\n",
    "        plt.imshow(new_image,cmap=\"gray\")\n",
    "        plt.tick_params(axis=\"both\", which=\"both\",\n",
    "                        top=False,bottom=False,left=False,right=False,\n",
    "                       labelbottom=False,labeltop=False,labelleft=False,\n",
    "                       labelright=False)\n",
    "        plt.title(\"processed image\")\n",
    "        plt.show()\n",
    "        \n",
    "    return new_image"
   ]
  },
  {
   "cell_type": "code",
   "execution_count": 6,
   "metadata": {},
   "outputs": [
    {
     "data": {
      "image/png": "[encoded data removed]",
      "text/plain": [
       "<Figure size 432x288 with 2 Axes>"
      ]
     },
     "metadata": {},
     "output_type": "display_data"
    },
    {
     "name": "stdout",
     "output_type": "stream",
     "text": [
      "\n"
     ]
    }
   ],
   "source": [
    "# testing the crop_contour_brain_img() function\n",
    "example_image=cv2.imread(path+\"/3.jpg\")\n",
    "img=image_threshholder(example_image,True)\n",
    "# plt.imshow(img)\n",
    "print()"
   ]
  },
  {
   "cell_type": "code",
   "execution_count": 7,
   "metadata": {},
   "outputs": [
    {
     "name": "stdout",
     "output_type": "stream",
     "text": [
      "C:/Users/TIRTHA/jupyterProjects/Autoencoder_for_image_Compression/DATASET\n",
      "🗁 C:/Users/TIRTHA/jupyterProjects/Autoencoder_for_image_Compression/DATASET --> 132 Items present.\n"
     ]
    }
   ],
   "source": [
    "# view directory tree\n",
    "def tree_printer(root):\n",
    "    try:\n",
    "        if \":\" not in root:\n",
    "            root=os.getcwd().replace(\"\\\\\",\"/\")+\"/\"+root\n",
    "            print(root)\n",
    "        if not os.path.isdir(root) and root!=\"\":\n",
    "            print(root,\": path not exists....\")\n",
    "            return\n",
    "    except:\n",
    "        print(\"🛠️ set path of the data set from your local mechine\")\n",
    "        return\n",
    "    \n",
    "    \n",
    "    print(\"🗁\",root,\"-->\",len(os.listdir(os.path.join(root))), \"Items present.\")\n",
    "    for name in os.listdir(root):\n",
    "        try:\n",
    "            print(\" |- 🗁\",name,\" \"*2+\"🏴\",len(os.listdir(os.path.join(root, name))),\"items\")\n",
    "        except:\n",
    "            continue\n",
    "            \n",
    "tree_printer(path)"
   ]
  },
  {
   "cell_type": "code",
   "execution_count": 8,
   "metadata": {},
   "outputs": [],
   "source": [
    "image_size=(28,28) # defining the image size \n",
    "hotencoder = OneHotEncoder() # calling the OneHotEncoder\n",
    "hotencoder.fit([[0], [1]]) # using binary crossentropy over catagorical crossentropy\n",
    "\n",
    "\n",
    "# load the images from the local mechine and process before putting the resultent list.\n",
    "def load_images(path,type=[\"jpg\",\"jpeg\"],target=0,images=[],orgimages=[],result=[]):\n",
    "    for filepath in os.listdir(path):\n",
    "        if filepath.split(\".\")[-1].lower() in type:\n",
    "            \n",
    "            img=cv2.imread(path+\"/\"+filepath)\n",
    "           \n",
    "            \n",
    "            try:\n",
    "                # filtering the image\n",
    "                img=image_threshholder(img)\n",
    "                # resizing the image in defined size\n",
    "                img=cv2.resize(img,image_size)\n",
    "            except:\n",
    "                print(\"Excluded image :\",path+\"/\"+filepath)\n",
    "                continue\n",
    "            \n",
    "            \n",
    "            # 3d image to 2D\n",
    "            img = np.expand_dims(img, 2)\n",
    "            # 2D to 1D convertion\n",
    "            img=img.reshape(-1)\n",
    "            # returning to 2d image\n",
    "            orgimg=np.reshape(img,image_size)\n",
    "            # putting in image array\n",
    "            img=np.array(img)\n",
    "            # inserting flatten image to list\n",
    "            images.append(img)\n",
    "            # inserting 2D image to list\n",
    "            orgimages.append(orgimg)\n",
    "            # appening the terget 0 for tumor,1 for no tumor\n",
    "            result.append(target)\n",
    "            \n",
    "    return [images,orgimages,result]\n",
    "\n",
    "# plot images \n",
    "def show_image(datasets,num=4):  \n",
    "    for i in range(num**2):\n",
    "        plt.subplot(num, num, i+1)\n",
    "        plt.imshow(datasets[i])\n",
    "        plt.axis('off')\n"
   ]
  },
  {
   "cell_type": "code",
   "execution_count": 9,
   "metadata": {},
   "outputs": [
    {
     "name": "stdout",
     "output_type": "stream",
     "text": [
      "Excluded image : DATASET/46.jpg\n",
      "Excluded image : DATASET/58.jpg\n"
     ]
    }
   ],
   "source": [
    "# load the image having brain cancer\n",
    "images,orgimages,result=load_images(path,target=0,images=[],orgimages=[],result=[])\n",
    "# print(images.shape)\n",
    "# show_image(images)\n",
    "# print(result)\n"
   ]
  },
  {
   "cell_type": "code",
   "execution_count": 10,
   "metadata": {},
   "outputs": [],
   "source": [
    "# # loading the images not having brain cancer\n",
    "# images,orgimages,result=load_images(path+\"/no\",target=1,images=images,orgimages=orgimages,result=result)\n",
    "# # print(no_images.shape)\n",
    "# # show_image(images)\n",
    "# print(\"total images :\",len(result),\"| total targets :\",len(images))"
   ]
  },
  {
   "cell_type": "markdown",
   "metadata": {},
   "source": [
    "# validation of data,original data and target"
   ]
  },
  {
   "cell_type": "code",
   "execution_count": 11,
   "metadata": {},
   "outputs": [
    {
     "name": "stdout",
     "output_type": "stream",
     "text": [
      "(130, 784)\n"
     ]
    }
   ],
   "source": [
    "# image dataset is stored in variable data\n",
    "data=np.array(images)\n",
    "print(data.shape)\n",
    "data=data/255"
   ]
  },
  {
   "cell_type": "code",
   "execution_count": 12,
   "metadata": {},
   "outputs": [
    {
     "name": "stdout",
     "output_type": "stream",
     "text": [
      "(130, 28, 28)\n"
     ]
    }
   ],
   "source": [
    "# unnecessary part for this project\n",
    "orgdata=np.array(orgimages)\n",
    "print(orgdata.shape)"
   ]
  },
  {
   "cell_type": "code",
   "execution_count": 13,
   "metadata": {},
   "outputs": [
    {
     "name": "stdout",
     "output_type": "stream",
     "text": [
      "(130,)\n"
     ]
    }
   ],
   "source": [
    "target=np.array(result)\n",
    "print(target.shape)"
   ]
  },
  {
   "cell_type": "markdown",
   "metadata": {},
   "source": [
    "## spliting of data,orgdata,target"
   ]
  },
  {
   "cell_type": "code",
   "execution_count": 14,
   "metadata": {},
   "outputs": [
    {
     "name": "stdout",
     "output_type": "stream",
     "text": [
      "(104, 784) (26, 784)\n"
     ]
    }
   ],
   "source": [
    "# customized test train splitter\n",
    "def test_train_splitter(data,ratio=0.2):\n",
    "    range=int(data.shape[0]*(1-0.2))\n",
    "    x_train=data[:range]\n",
    "    x_test=data[range:]\n",
    "    return x_train,x_test\n",
    "\n",
    "x_train,x_test=test_train_splitter(data)\n",
    "print(x_train.shape,x_test.shape)"
   ]
  },
  {
   "cell_type": "markdown",
   "metadata": {},
   "source": [
    "# model starts here -----------:)"
   ]
  },
  {
   "cell_type": "code",
   "execution_count": 15,
   "metadata": {},
   "outputs": [],
   "source": [
    "# importing necessary packages\n",
    "# view explanation in 2nd cell\n",
    "import tensorflow.keras.layers\n",
    "import tensorflow.keras.models\n",
    "import tensorflow.keras.optimizers\n",
    "import tensorflow.keras.datasets"
   ]
  },
  {
   "cell_type": "markdown",
   "metadata": {},
   "source": [
    "## encoder model"
   ]
  },
  {
   "cell_type": "code",
   "execution_count": 16,
   "metadata": {},
   "outputs": [
    {
     "name": "stdout",
     "output_type": "stream",
     "text": [
      "Model: \"encoder_model\"\n",
      "_________________________________________________________________\n",
      " Layer (type)                Output Shape              Param #   \n",
      "=================================================================\n",
      " encoder_input (InputLayer)  [(None, 784)]             0         \n",
      "                                                                 \n",
      " encoder_dense_1 (Dense)     (None, 300)               235500    \n",
      "                                                                 \n",
      " encoder_leakyrelu_1 (LeakyR  (None, 300)              0         \n",
      " eLU)                                                            \n",
      "                                                                 \n",
      " encoder_dense_2 (Dense)     (None, 64)                19264     \n",
      "                                                                 \n",
      " encoder_output (LeakyReLU)  (None, 64)                0         \n",
      "                                                                 \n",
      "=================================================================\n",
      "Total params: 254,764\n",
      "Trainable params: 254,764\n",
      "Non-trainable params: 0\n",
      "_________________________________________________________________\n"
     ]
    }
   ],
   "source": [
    "# encoder model func\n",
    "# encode the image in 64bit image(8X8)\n",
    "def get_encoder():\n",
    "    # Encoder input shape (784,)\n",
    "    x = tensorflow.keras.layers.Input(shape=(784), name=\"encoder_input\")\n",
    "\n",
    "    # neurons in a Dense layer is now 300 \n",
    "    encoder_dense_layer1 = tensorflow.keras.layers.Dense(units=300, name=\"encoder_dense_1\")(x)\n",
    "    encoder_activ_layer1 = tensorflow.keras.layers.LeakyReLU(name=\"encoder_leakyrelu_1\")(encoder_dense_layer1)\n",
    "\n",
    "    # neurons in a Dense layer is decreased to 64\n",
    "    encoder_dense_layer2 = tensorflow.keras.layers.Dense(units=64, name=\"encoder_dense_2\")(encoder_activ_layer1)\n",
    "    encoder_output = tensorflow.keras.layers.LeakyReLU(name=\"encoder_output\")(encoder_dense_layer2)\n",
    "\n",
    "    # containerized the model\n",
    "    encoder = tensorflow.keras.models.Model(x, encoder_output, name=\"encoder_model\")\n",
    "    return encoder\n",
    "\n",
    "encoder=get_encoder()\n",
    "encoder.summary()"
   ]
  },
  {
   "cell_type": "markdown",
   "metadata": {},
   "source": [
    "## decoder model"
   ]
  },
  {
   "cell_type": "code",
   "execution_count": 17,
   "metadata": {},
   "outputs": [
    {
     "name": "stdout",
     "output_type": "stream",
     "text": [
      "Model: \"decoder_model\"\n",
      "_________________________________________________________________\n",
      " Layer (type)                Output Shape              Param #   \n",
      "=================================================================\n",
      " decoder_input (InputLayer)  [(None, 64)]              0         \n",
      "                                                                 \n",
      " decoder_dense_1 (Dense)     (None, 300)               19500     \n",
      "                                                                 \n",
      " decoder_leakyrelu_1 (LeakyR  (None, 300)              0         \n",
      " eLU)                                                            \n",
      "                                                                 \n",
      " decoder_dense_2 (Dense)     (None, 784)               235984    \n",
      "                                                                 \n",
      " decoder_output (LeakyReLU)  (None, 784)               0         \n",
      "                                                                 \n",
      "=================================================================\n",
      "Total params: 255,484\n",
      "Trainable params: 255,484\n",
      "Non-trainable params: 0\n",
      "_________________________________________________________________\n"
     ]
    }
   ],
   "source": [
    "# decoder model func\n",
    "# encode the encoded image(64bit) back to original size(784 bit).\n",
    "def get_decoder():\n",
    "    decoder_input = tensorflow.keras.layers.Input(shape=(64), name=\"decoder_input\")\n",
    "\n",
    "    # neurons in a Dense layer is now 300 \n",
    "    decoder_dense_layer1 = tensorflow.keras.layers.Dense(units=300, name=\"decoder_dense_1\")(decoder_input)\n",
    "    decoder_activ_layer1 = tensorflow.keras.layers.LeakyReLU(name=\"decoder_leakyrelu_1\")(decoder_dense_layer1)\n",
    "\n",
    "    # neurons in a Dense layer is increased to 300.\n",
    "    decoder_dense_layer2 = tensorflow.keras.layers.Dense(units=784, name=\"decoder_dense_2\")(decoder_activ_layer1)\n",
    "    decoder_output = tensorflow.keras.layers.LeakyReLU(name=\"decoder_output\")(decoder_dense_layer2)\n",
    "    # containerized the model\n",
    "    decoder = tensorflow.keras.models.Model(decoder_input, decoder_output, name=\"decoder_model\")\n",
    "    return decoder\n",
    "\n",
    "decoder=get_decoder()\n",
    "decoder.summary()"
   ]
  },
  {
   "cell_type": "markdown",
   "metadata": {},
   "source": [
    "## autoencoder model"
   ]
  },
  {
   "cell_type": "code",
   "execution_count": 18,
   "metadata": {},
   "outputs": [
    {
     "name": "stdout",
     "output_type": "stream",
     "text": [
      "Model: \"AE\"\n",
      "_________________________________________________________________\n",
      " Layer (type)                Output Shape              Param #   \n",
      "=================================================================\n",
      " AE_input (InputLayer)       [(None, 784)]             0         \n",
      "                                                                 \n",
      " encoder_model (Functional)  (None, 64)                254764    \n",
      "                                                                 \n",
      " decoder_model (Functional)  (None, 784)               255484    \n",
      "                                                                 \n",
      "=================================================================\n",
      "Total params: 510,248\n",
      "Trainable params: 510,248\n",
      "Non-trainable params: 0\n",
      "_________________________________________________________________\n"
     ]
    }
   ],
   "source": [
    "# Autoencoder model\n",
    "# combine and sync the encoder and decoder model.\n",
    "# parameter encoder model and decoder model.\n",
    "\n",
    "def autoencoder(encoder,decoder):\n",
    "    ae_input = tensorflow.keras.layers.Input(shape=(784), name=\"AE_input\")\n",
    "    # encoding the input images\n",
    "    ae_encoder_output = encoder(ae_input)\n",
    "    # decoding the encoded image back to original shape\n",
    "    ae_decoder_output = decoder(ae_encoder_output)\n",
    "\n",
    "    ae = tensorflow.keras.models.Model(ae_input, ae_decoder_output, name=\"AE\")\n",
    "    return ae\n",
    "\n",
    "\n",
    "ae=autoencoder(encoder,decoder)\n",
    "ae.summary()\n",
    "\n",
    "    \n",
    "\n"
   ]
  },
  {
   "cell_type": "code",
   "execution_count": 19,
   "metadata": {},
   "outputs": [],
   "source": [
    "# calculating RMSE of autoencoder\n",
    "# RMSE is a measure of how spread out these residuals are. \n",
    "# It tells you how concentrated the data is around the line of best fit. \n",
    "def rmse(y_true, y_predict):\n",
    "    return tensorflow.keras.backend.mean(tensorflow.keras.backend.square(y_true-y_predict))\n",
    "\n",
    "# AE Compilation\n",
    "ae.compile(loss=\"mse\", optimizer=tensorflow.keras.optimizers.Adam(learning_rate=0.0005))\n",
    "\n"
   ]
  },
  {
   "cell_type": "code",
   "execution_count": 20,
   "metadata": {},
   "outputs": [
    {
     "name": "stdout",
     "output_type": "stream",
     "text": [
      "(104, 784) (26, 784)\n",
      "(104, 28, 28) (26, 28, 28)\n",
      "(104,) (26,)\n"
     ]
    }
   ],
   "source": [
    "# preparing brain tumor dataset spliting into test train default ratio is 0.2\n",
    "\n",
    "x_train,x_test=test_train_splitter(data)\n",
    "print(x_train.shape,x_test.shape)\n",
    "\n",
    "x_train_org,x_test_org=test_train_splitter(orgdata)\n",
    "print(x_train_org.shape,x_test_org.shape)\n",
    "\n",
    "y_train,y_test=test_train_splitter(target)\n",
    "print(y_train.shape,y_test.shape)\n",
    "\n"
   ]
  },
  {
   "cell_type": "code",
   "execution_count": 21,
   "metadata": {},
   "outputs": [],
   "source": [
    "# # Preparing MNIST Dataset\n",
    "# (x_train_orig, y_train), (x_test_orig, y_test) = tensorflow.keras.datasets.mnist.load_data()\n",
    "# x_train_orig = x_train_orig.astype(\"float32\") / 255.0\n",
    "# x_test_orig = x_test_orig.astype(\"float32\") / 255.0\n",
    "\n",
    "# x_train = numpy.reshape(x_train_orig, newshape=(x_train_orig.shape[0], numpy.prod(x_train_orig.shape[1:])))\n",
    "# x_test = numpy.reshape(x_test_orig, newshape=(x_test_orig.shape[0], numpy.prod(x_test_orig.shape[1:])))\n",
    "# # x_test_orig.shape,x_test.shape,y_test.shape\n",
    "# y_test[0]"
   ]
  },
  {
   "cell_type": "code",
   "execution_count": 22,
   "metadata": {},
   "outputs": [
    {
     "name": "stdout",
     "output_type": "stream",
     "text": [
      "Epoch 1/20\n",
      "11/11 [==============================] - 5s 134ms/step - loss: 0.2205 - val_loss: 0.1616\n",
      "Epoch 2/20\n",
      "11/11 [==============================] - 0s 31ms/step - loss: 0.1430 - val_loss: 0.1300\n",
      "Epoch 3/20\n",
      "11/11 [==============================] - 0s 28ms/step - loss: 0.1204 - val_loss: 0.1140\n",
      "Epoch 4/20\n",
      "11/11 [==============================] - 0s 30ms/step - loss: 0.1058 - val_loss: 0.1031\n",
      "Epoch 5/20\n",
      "11/11 [==============================] - 0s 28ms/step - loss: 0.0963 - val_loss: 0.0978\n",
      "Epoch 6/20\n",
      "11/11 [==============================] - 0s 27ms/step - loss: 0.0911 - val_loss: 0.0952\n",
      "Epoch 7/20\n",
      "11/11 [==============================] - 0s 28ms/step - loss: 0.0866 - val_loss: 0.0929\n",
      "Epoch 8/20\n",
      "11/11 [==============================] - 0s 40ms/step - loss: 0.0821 - val_loss: 0.0907\n",
      "Epoch 9/20\n",
      "11/11 [==============================] - 0s 28ms/step - loss: 0.0784 - val_loss: 0.0899\n",
      "Epoch 10/20\n",
      "11/11 [==============================] - 0s 27ms/step - loss: 0.0747 - val_loss: 0.0884\n",
      "Epoch 11/20\n",
      "11/11 [==============================] - 0s 28ms/step - loss: 0.0714 - val_loss: 0.0874\n",
      "Epoch 12/20\n",
      "11/11 [==============================] - 0s 30ms/step - loss: 0.0681 - val_loss: 0.0873\n",
      "Epoch 13/20\n",
      "11/11 [==============================] - 0s 30ms/step - loss: 0.0649 - val_loss: 0.0864\n",
      "Epoch 14/20\n",
      "11/11 [==============================] - 0s 28ms/step - loss: 0.0616 - val_loss: 0.0862\n",
      "Epoch 15/20\n",
      "11/11 [==============================] - 0s 29ms/step - loss: 0.0589 - val_loss: 0.0857\n",
      "Epoch 16/20\n",
      "11/11 [==============================] - 0s 43ms/step - loss: 0.0566 - val_loss: 0.0857\n",
      "Epoch 17/20\n",
      "11/11 [==============================] - 0s 36ms/step - loss: 0.0542 - val_loss: 0.0850\n",
      "Epoch 18/20\n",
      "11/11 [==============================] - 0s 28ms/step - loss: 0.0516 - val_loss: 0.0848\n",
      "Epoch 19/20\n",
      "11/11 [==============================] - 0s 32ms/step - loss: 0.0492 - val_loss: 0.0842\n",
      "Epoch 20/20\n",
      "11/11 [==============================] - 0s 42ms/step - loss: 0.0470 - val_loss: 0.0838\n"
     ]
    },
    {
     "data": {
      "text/plain": [
       "<keras.callbacks.History at 0x220e05f96a0>"
      ]
     },
     "execution_count": 22,
     "metadata": {},
     "output_type": "execute_result"
    }
   ],
   "source": [
    "# Training Autoencoder\n",
    "ae.fit(x_train, x_train, epochs=20, batch_size=10, shuffle=True, validation_data=(x_test, x_test))\n"
   ]
  },
  {
   "cell_type": "code",
   "execution_count": 23,
   "metadata": {},
   "outputs": [
    {
     "name": "stdout",
     "output_type": "stream",
     "text": [
      "Wall time: 907 ms\n"
     ]
    }
   ],
   "source": [
    "%%time\n",
    "start_time = time.time()\n",
    "\n",
    "encoded_images = encoder.predict(x_test)\n",
    "encode_time=time.time() - start_time\n",
    "decoded_images = decoder.predict(encoded_images)\n",
    "# calculating execution time\n",
    "execution_time=time.time() - start_time\n",
    "decode_time=execution_time-encode_time\n",
    "# reshaping the image of (784,) to plotable image(28,28)\n",
    "decoded_images_orig = np.reshape(decoded_images, newshape=(decoded_images.shape[0], 28, 28))"
   ]
  },
  {
   "cell_type": "markdown",
   "metadata": {},
   "source": [
    "# Analyzing compression ratio"
   ]
  },
  {
   "cell_type": "code",
   "execution_count": 24,
   "metadata": {},
   "outputs": [
    {
     "name": "stdout",
     "output_type": "stream",
     "text": [
      "encoder image shape (64,)\n",
      "decoder image shape (784,)\n"
     ]
    },
    {
     "data": {
      "image/png": "[encoded data removed]",
      "text/plain": [
       "<Figure size 432x288 with 3 Axes>"
      ]
     },
     "metadata": {},
     "output_type": "display_data"
    }
   ],
   "source": [
    "print(\"encoder image shape\",encoded_images[0].shape)\n",
    "print(\"decoder image shape\",decoded_images[0].shape)\n",
    "\n",
    "# ploting the comparition between original,encoded and decoded image.\n",
    "\n",
    "plt.figure()\n",
    "plt.subplot(1,3,1)\n",
    "original_sample=orgdata[0]\n",
    "plt.imshow(original_sample,cmap=\"gray\")\n",
    "plt.tick_params(axis=\"both\", which=\"both\",\n",
    "                top=False,bottom=False,left=False,right=False,\n",
    "                labelbottom=False,labeltop=False,labelleft=False,\n",
    "                labelright=False)\n",
    "plt.title(\"original image\")\n",
    "        \n",
    "plt.subplot(1,3,2)\n",
    "encoded_sample = np.reshape(encoded_images, newshape=(decoded_images.shape[0], 8, 8))[0]\n",
    "plt.imshow(encoded_sample,cmap=\"gray\")\n",
    "plt.tick_params(axis=\"both\", which=\"both\",\n",
    "                top=False,bottom=False,left=False,right=False,\n",
    "                labelbottom=False,labeltop=False,labelleft=False,\n",
    "                labelright=False)\n",
    "plt.title(\"encoded image\")\n",
    "\n",
    "plt.subplot(1,3,3)\n",
    "decoded_sample=decoded_images_orig[0]\n",
    "plt.imshow(decoded_sample,cmap=\"gray\")\n",
    "plt.tick_params(axis=\"both\", which=\"both\",\n",
    "                top=False,bottom=False,left=False,right=False,\n",
    "                labelbottom=False,labeltop=False,labelleft=False,\n",
    "                labelright=False)\n",
    "plt.title(\"decoded image\")\n",
    "plt.show()\n"
   ]
  },
  {
   "cell_type": "markdown",
   "metadata": {},
   "source": [
    "### performance parameter\n",
    "1. execution time\n",
    "2. compression ratio\n",
    "3. space saving\n",
    "4. Bits per pixel (BPP)\n",
    "5. Mean squared error (MSE)\n",
    "6. Structure Similarity Index (SSIM)\n",
    "7. Peak Signal to Noise Ratio (PSNR)\n",
    "8. Percent rate of distortion (PRD)\n",
    "9. Structural Content (SC)\n",
    "10. Correlation Coefficient (CC)"
   ]
  },
  {
   "cell_type": "code",
   "execution_count": 60,
   "metadata": {},
   "outputs": [
    {
     "name": "stdout",
     "output_type": "stream",
     "text": [
      "Total execution time = 0.9074292182922363 seconds\n",
      "Total encoding time = 0.47307324409484863 seconds\n",
      "Total decode Time = 0.4343559741973877 seconds\n",
      "Avarage Execution time = 34.90112378047063 MilliSeconds\n",
      "Avarage Encoding time = 18.195124772878792 MilliSeconds\n",
      "Avarage Decoding time = 16.705999007591835 MilliSeconds\n",
      "\n",
      "File size of Compressed image : 2704 bits\n",
      "File size of Original image : 8192 bits\n",
      "\n",
      "BPP for sample image 0 = 42.25 bits/pixel\n",
      "Compression ratio : 3.03\n",
      "Space saving : 0.67\n"
     ]
    },
    {
     "name": "stderr",
     "output_type": "stream",
     "text": [
      "A subdirectory or file static already exists.\n"
     ]
    }
   ],
   "source": [
    "# avg execution time=total execution time/no of testing sample\n",
    "print(\"Total execution time = {} seconds\".format(execution_time))\n",
    "print(\"Total encoding time = {} seconds\".format(encode_time))\n",
    "print(\"Total decode Time = {} seconds\".format(decode_time))\n",
    "\n",
    "print(\"Avarage Execution time = {} MilliSeconds\".format(execution_time/encoded_images.shape[0]*1000))\n",
    "print(\"Avarage Encoding time = {} MilliSeconds\".format(encode_time/encoded_images.shape[0]*1000))\n",
    "print(\"Avarage Decoding time = {} MilliSeconds\".format(decode_time/encoded_images.shape[0]*1000))\n",
    "\n",
    "print()\n",
    "\n",
    "\n",
    "# number of pixel in compressed image for image sample 0\n",
    "comp_pixel=encoded_images[0].shape[0]\n",
    "!mkdir static\n",
    "# saving the image .jpg format.\n",
    "cv2.imwrite('static/comp_sample1.jpg',encoded_sample)\n",
    "cv2.imwrite('static/org_sample1.jpg',original_sample)\n",
    "\n",
    "# getting the size of the image\n",
    "size_bytes_comp = os.path.getsize('static/comp_sample1.jpg')\n",
    "size_bytes_org = os.path.getsize('static/org_sample1.jpg')\n",
    "\n",
    "\n",
    "# converting the bytes to bit by multiplying by 8\n",
    "size_bits_comp=size_bytes_comp*8\n",
    "size_bits_org=size_bytes_org*8\n",
    "\n",
    "print(\"File size of Compressed image :\",size_bits_comp,\"bits\")\n",
    "print(\"File size of Original image :\",size_bits_org,\"bits\")\n",
    "print()\n",
    "\n",
    "# Bits Per Pixel (BPP): BPP is defined as the ratio of the total size of the compressed image to the total number \n",
    "# of the pixel in the image.\n",
    "\n",
    "BPP=size_bits_comp/comp_pixel\n",
    "print(\"BPP for sample image 0 =\",BPP,\"bits/pixel\")\n",
    "\n",
    "\n",
    "# compression_ratio = orizinal image size / compressed image size\n",
    "\n",
    "\n",
    "compression_ratio=size_bits_org / size_bits_comp\n",
    "print(\"Compression ratio :\", round(compression_ratio,3))\n",
    "\n",
    "# defined as the reduction in size relative to the uncompressed size:\n",
    "print(\"Space saving :\",round(1-(1/compression_ratio),2))\n"
   ]
  },
  {
   "cell_type": "code",
   "execution_count": 61,
   "metadata": {},
   "outputs": [
    {
     "name": "stdout",
     "output_type": "stream",
     "text": [
      "Mean Squared Error of original and decompressed image : 3253.46\n",
      "Structure Similarity Index(SSIM) of original and decompressed image : 0.039\n",
      "Peak Signal to Noise Ratio (PSNR) of original and decompressed image : 13.007\n",
      "PRD of original and decompressed image : 97.562 %\n",
      "Structural content of original and decompressed image : 10.827\n",
      "Correlation Coefficient (CC) of original and decompressed image : 0.0017227868948114019\n"
     ]
    }
   ],
   "source": [
    "# Mean Square Error (MSE): MSE is the description of the cumulative squared error between the \n",
    "# compressed image and the original image\n",
    "def mse(imageA, imageB):\n",
    "    # the 'Mean Squared Error' between the two images is the\n",
    "    # sum of the squared difference between the two images;\n",
    "    \n",
    "    err = np.sum((imageA.astype(\"float\") - imageB.astype(\"float\")) ** 2)\n",
    "    err /= float(imageA.shape[0] * imageA.shape[1])\n",
    "    return round(err,3)\n",
    "\n",
    "# calculating MSE of original and decompressed image\n",
    "print(\"Mean Squared Error of original and decompressed image :\",mse(original_sample,decoded_sample))\n",
    "\n",
    "\n",
    "# calculating SSIM of original and decompressed image\n",
    "# Structure Similarity Index (SSIM): SSIM is used to measure the tendency of similarity between the \n",
    "# original image and the compressed image\n",
    "print(\"Structure Similarity Index(SSIM) of original and decompressed image :\",round(ssim(original_sample,decoded_sample),3))\n",
    "\n",
    "\n",
    "\n",
    "def PSNR(original, compressed):\n",
    "    mse = np.mean((original - compressed) ** 2)\n",
    "    if(mse == 0):  # MSE is zero means no noise is present in the signal .\n",
    "                  # Therefore PSNR have no importance.\n",
    "        return 100\n",
    "    max_pixel = 255.0\n",
    "    psnr = 20 * log10(max_pixel / sqrt(mse))\n",
    "    return round(psnr,3)\n",
    "\n",
    "# Peak Signal to Noise Ratio (PSNR): PSNR is defined as the ratio of the maximum pixel intensity to the \n",
    "# mean square error\n",
    "print(\"Peak Signal to Noise Ratio (PSNR) of original and decompressed image :\",PSNR(original_sample,decoded_sample))\n",
    "\n",
    "\n",
    "def PRD(original,decoded):\n",
    "    sum_diff=np.sum((original - decoded))**2\n",
    "    sum_org=np.sum(original)**2\n",
    "    prd=sqrt(sum_diff/sum_org)*100\n",
    "    return round(prd,3)\n",
    "\n",
    "print(\"PRD of original and decompressed image :\",PRD(original_sample,decoded_sample),\"%\")\n",
    "\n",
    "\n",
    "def SC(original,decoded):\n",
    "    sum_org=np.sum(original**2)\n",
    "    sum_dec=np.sum(decoded**2)\n",
    "    sc=sum_org/sum_dec\n",
    "    return round(sc,3)\n",
    "\n",
    "print(\"Structural content of original and decompressed image :\",SC(original_sample,decoded_sample))\n",
    "\n",
    "\n",
    "def correlation_coeff(orgimage, decoded):\n",
    "    cc = (np.sum(orgimage*decoded))/ ((sqrt((np.sum(orgimage)**2)) * (sqrt((np.sum(decoded)**2)))))\n",
    "    return cc\n",
    "print(\"Correlation Coefficient (CC) of original and decompressed image :\",correlation_coeff(original_sample,decoded_sample))"
   ]
  },
  {
   "cell_type": "code",
   "execution_count": 62,
   "metadata": {},
   "outputs": [
    {
     "data": {
      "text/plain": [
       "<matplotlib.colorbar.Colorbar at 0x220e6284e80>"
      ]
     },
     "execution_count": 62,
     "metadata": {},
     "output_type": "execute_result"
    },
    {
     "data": {
      "image/png": "[encoded data removed]",
      "text/plain": [
       "<Figure size 432x288 with 10 Axes>"
      ]
     },
     "metadata": {
      "needs_background": "light"
     },
     "output_type": "display_data"
    },
    {
     "data": {
      "image/png": "[encoded data removed]",
      "text/plain": [
       "<Figure size 432x288 with 2 Axes>"
      ]
     },
     "metadata": {
      "needs_background": "light"
     },
     "output_type": "display_data"
    }
   ],
   "source": [
    "import warnings\n",
    "warnings.filterwarnings(\"ignore\")\n",
    "# comparing some more images between original and decode image.\n",
    "num_images_to_show = 5\n",
    "for im_ind in range(num_images_to_show):\n",
    "    plot_ind = im_ind*2 + 1\n",
    "    rand_ind = np.random.randint(low=0, high=x_test.shape[0])\n",
    "    plt.subplot(num_images_to_show, 2, plot_ind)\n",
    "    plt.imshow(x_test_org[rand_ind, :, :], cmap=\"gray\")\n",
    "    plt.subplot(num_images_to_show, 2, plot_ind+1)\n",
    "    \n",
    "    # convert 2D image to 3D\n",
    "    img_bgr = cv2.cvtColor(decoded_images_orig[rand_ind], cv2.COLOR_GRAY2BGR)\n",
    "    # Clipping data to the valid range for imshow with RGB data ([0..1]\n",
    "    plt.imshow(np.clip(img_bgr, 0, 1))\n",
    "\n",
    "plt.figure()\n",
    "plt.scatter(encoded_images[:, 0], encoded_images[:, 1], c=y_test)\n",
    "plt.colorbar()"
   ]
  },
  {
   "cell_type": "code",
   "execution_count": 28,
   "metadata": {},
   "outputs": [],
   "source": [
    "# !jt -t oceans16 -T -N -kl"
   ]
  },
  {
   "cell_type": "code",
   "execution_count": 29,
   "metadata": {},
   "outputs": [],
   "source": [
    "# !jt -l\n",
    "# !jt -r"
   ]
  },
  {
   "cell_type": "code",
   "execution_count": 57,
   "metadata": {},
   "outputs": [],
   "source": [
    "!explorer .\n"
   ]
  },
  {
   "cell_type": "code",
   "execution_count": null,
   "metadata": {},
   "outputs": [],
   "source": []
  }
 ],
 "metadata": {
  "kernelspec": {
   "display_name": "Python 3",
   "language": "python",
   "name": "python3"
  },
  "language_info": {
   "codemirror_mode": {
    "name": "ipython",
    "version": 3
   },
   "file_extension": ".py",
   "mimetype": "text/x-python",
   "name": "python",
   "nbconvert_exporter": "python",
   "pygments_lexer": "ipython3",
   "version": "3.8.8"
  }
 },
 "nbformat": 4,
 "nbformat_minor": 4
}
